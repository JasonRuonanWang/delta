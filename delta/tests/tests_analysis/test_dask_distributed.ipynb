{
 "cells": [
  {
   "cell_type": "code",
   "execution_count": 1,
   "metadata": {},
   "outputs": [],
   "source": [
    "from distributed import Client"
   ]
  },
  {
   "cell_type": "code",
   "execution_count": 2,
   "metadata": {},
   "outputs": [],
   "source": [
    "dask_client = Client(scheduler_file=\"/global/cscratch1/sd/rkube/scheduler.json\")"
   ]
  },
  {
   "cell_type": "code",
   "execution_count": 5,
   "metadata": {},
   "outputs": [
    {
     "ename": "AttributeError",
     "evalue": "'Client' object has no attribute 'config'",
     "output_type": "error",
     "traceback": [
      "\u001b[0;31m---------------------------------------------------------------------------\u001b[0m",
      "\u001b[0;31mAttributeError\u001b[0m                            Traceback (most recent call last)",
      "\u001b[0;32m<ipython-input-5-e4dc046a1732>\u001b[0m in \u001b[0;36m<module>\u001b[0;34m\u001b[0m\n\u001b[0;32m----> 1\u001b[0;31m \u001b[0mdask_client\u001b[0m\u001b[0;34m.\u001b[0m\u001b[0mconfig\u001b[0m\u001b[0;34m.\u001b[0m\u001b[0mconfig\u001b[0m\u001b[0;34m[\u001b[0m\u001b[0;34m\"distributed\"\u001b[0m\u001b[0;34m]\u001b[0m\u001b[0;34m[\u001b[0m\u001b[0;34m\"dashboard\"\u001b[0m\u001b[0;34m]\u001b[0m\u001b[0;34m[\u001b[0m\u001b[0;34m\"link\"\u001b[0m\u001b[0;34m]\u001b[0m \u001b[0;34m=\u001b[0m \u001b[0;34m\"{JUPYTERHUB_SERVICE_PREFIX}proxy/{host}:{port}/status\"\u001b[0m\u001b[0;34m\u001b[0m\u001b[0;34m\u001b[0m\u001b[0m\n\u001b[0m",
      "\u001b[0;31mAttributeError\u001b[0m: 'Client' object has no attribute 'config'"
     ]
    }
   ],
   "source": [
    "dask_client.config.config[\"distributed\"][\"dashboard\"][\"link\"] = \"{JUPYTERHUB_SERVICE_PREFIX}proxy/{host}:{port}/status\""
   ]
  },
  {
   "cell_type": "code",
   "execution_count": 3,
   "metadata": {},
   "outputs": [
    {
     "data": {
      "text/html": [
       "<table style=\"border: 2px solid white;\">\n",
       "<tr>\n",
       "<td style=\"vertical-align: top; border: 0px solid white\">\n",
       "<h3 style=\"text-align: left;\">Client</h3>\n",
       "<ul style=\"text-align: left; list-style: none; margin: 0; padding: 0;\">\n",
       "  <li><b>Scheduler: </b>tcp://10.128.9.20:8786</li>\n",
       "  <li><b>Dashboard: </b><a href='http://10.128.9.20:8787/status' target='_blank'>http://10.128.9.20:8787/status</a>\n",
       "</ul>\n",
       "</td>\n",
       "<td style=\"vertical-align: top; border: 0px solid white\">\n",
       "<h3 style=\"text-align: left;\">Cluster</h3>\n",
       "<ul style=\"text-align: left; list-style:none; margin: 0; padding: 0;\">\n",
       "  <li><b>Workers: </b>68</li>\n",
       "  <li><b>Cores: </b>272</li>\n",
       "  <li><b>Memory: </b>6.35 TB</li>\n",
       "</ul>\n",
       "</td>\n",
       "</tr>\n",
       "</table>"
      ],
      "text/plain": [
       "<Client: 'tcp://10.128.9.20:8786' processes=68 threads=272, memory=6.35 TB>"
      ]
     },
     "execution_count": 3,
     "metadata": {},
     "output_type": "execute_result"
    }
   ],
   "source": [
    "dask_client"
   ]
  },
  {
   "cell_type": "code",
   "execution_count": 44,
   "metadata": {},
   "outputs": [],
   "source": [
    "w = dask_client.scheduler_info()['workers']"
   ]
  },
  {
   "cell_type": "code",
   "execution_count": 45,
   "metadata": {},
   "outputs": [
    {
     "name": "stderr",
     "output_type": "stream",
     "text": [
      "distributed.client - WARNING - Couldn't gather 1 keys, rescheduling {'reduce-d7d425d534540ccf40256ffc31b2a697': ('tcp://10.128.9.21:38825',)}\n",
      "distributed.client - WARNING - Couldn't gather 1 keys, rescheduling {'reduce-d7d425d534540ccf40256ffc31b2a697': ('tcp://10.128.9.21:34119',)}\n",
      "distributed.client - WARNING - Couldn't gather 1 keys, rescheduling {'reduce-d7d425d534540ccf40256ffc31b2a697': ('tcp://10.128.9.21:39043',)}\n",
      "distributed.client - WARNING - Couldn't gather 1 keys, rescheduling {'reduce-d7d425d534540ccf40256ffc31b2a697': ('tcp://10.128.9.21:42181',)}\n",
      "distributed.client - WARNING - Couldn't gather 1 keys, rescheduling {'reduce-d7d425d534540ccf40256ffc31b2a697': ('tcp://10.128.9.21:34153',)}\n",
      "distributed.client - WARNING - Couldn't gather 1 keys, rescheduling {'reduce-d7d425d534540ccf40256ffc31b2a697': ('tcp://10.128.9.21:40795',)}\n",
      "distributed.client - WARNING - Couldn't gather 1 keys, rescheduling {'reduce-d7d425d534540ccf40256ffc31b2a697': ('tcp://10.128.9.21:41547',)}\n",
      "distributed.client - WARNING - Couldn't gather 1 keys, rescheduling {'reduce-d7d425d534540ccf40256ffc31b2a697': ('tcp://10.128.9.21:32905',)}\n",
      "distributed.client - WARNING - Couldn't gather 1 keys, rescheduling {'reduce-d7d425d534540ccf40256ffc31b2a697': ('tcp://10.128.9.21:33667',)}\n",
      "distributed.client - WARNING - Couldn't gather 1 keys, rescheduling {'reduce-d7d425d534540ccf40256ffc31b2a697': ('tcp://10.128.9.21:39969',)}\n",
      "distributed.client - WARNING - Couldn't gather 1 keys, rescheduling {'reduce-d7d425d534540ccf40256ffc31b2a697': ('tcp://10.128.9.21:40089',)}\n"
     ]
    }
   ],
   "source": [
    "dask_client.retire_workers(w);"
   ]
  },
  {
   "cell_type": "code",
   "execution_count": null,
   "metadata": {},
   "outputs": [],
   "source": []
  },
  {
   "cell_type": "code",
   "execution_count": null,
   "metadata": {},
   "outputs": [],
   "source": []
  },
  {
   "cell_type": "code",
   "execution_count": 40,
   "metadata": {},
   "outputs": [],
   "source": [
    "import numpy as np\n",
    "\n",
    "def simulate(seed, count=100):\n",
    "    np.random.seed(seed)\n",
    "    xy = np.random.uniform(size=(count, 2))\n",
    "    return ((xy * xy).sum(1) < 1.0).sum(), count"
   ]
  },
  {
   "cell_type": "code",
   "execution_count": 42,
   "metadata": {},
   "outputs": [],
   "source": [
    "total = 100_000\n",
    "tasks = 1000\n",
    "count = total // tasks\n",
    "base_seed = 9876543\n",
    "futures = dask_client.map(simulate, list(base_seed + np.arange(tasks, dtype=int)), count=count)"
   ]
  },
  {
   "cell_type": "code",
   "execution_count": 29,
   "metadata": {},
   "outputs": [],
   "source": [
    " def reduce(results):\n",
    "    total_hits = 0\n",
    "    total_count = 0\n",
    "    for hits, count in results:\n",
    "        total_hits += hits\n",
    "        total_count += count\n",
    "    return 4.0 * total_hits / total_count"
   ]
  },
  {
   "cell_type": "code",
   "execution_count": 43,
   "metadata": {},
   "outputs": [
    {
     "name": "stderr",
     "output_type": "stream",
     "text": [
      "distributed.client - WARNING - Couldn't gather 1 keys, rescheduling {'reduce-d7d425d534540ccf40256ffc31b2a697': ('tcp://10.128.9.21:45091',)}\n",
      "distributed.client - WARNING - Couldn't gather 1 keys, rescheduling {'reduce-d7d425d534540ccf40256ffc31b2a697': ('tcp://10.128.9.21:38103',)}\n",
      "distributed.client - WARNING - Couldn't gather 1 keys, rescheduling {'reduce-d7d425d534540ccf40256ffc31b2a697': ('tcp://10.128.9.21:44067',)}\n",
      "distributed.client - WARNING - Couldn't gather 1 keys, rescheduling {'reduce-d7d425d534540ccf40256ffc31b2a697': ('tcp://10.128.9.21:37881',)}\n",
      "distributed.client - WARNING - Couldn't gather 1 keys, rescheduling {'reduce-d7d425d534540ccf40256ffc31b2a697': ('tcp://10.128.9.21:36511',)}\n",
      "distributed.client - WARNING - Couldn't gather 1 keys, rescheduling {'reduce-d7d425d534540ccf40256ffc31b2a697': ('tcp://10.128.9.21:37503',)}\n",
      "distributed.client - WARNING - Couldn't gather 1 keys, rescheduling {'reduce-d7d425d534540ccf40256ffc31b2a697': ('tcp://10.128.9.21:42449',)}\n",
      "distributed.client - WARNING - Couldn't gather 1 keys, rescheduling {'reduce-d7d425d534540ccf40256ffc31b2a697': ('tcp://10.128.9.21:40761',)}\n",
      "distributed.client - WARNING - Couldn't gather 1 keys, rescheduling {'reduce-d7d425d534540ccf40256ffc31b2a697': ('tcp://10.128.9.21:36623',)}\n",
      "distributed.client - WARNING - Couldn't gather 1 keys, rescheduling {'reduce-d7d425d534540ccf40256ffc31b2a697': ('tcp://10.128.9.21:44375',)}\n",
      "distributed.client - WARNING - Couldn't gather 1 keys, rescheduling {'reduce-d7d425d534540ccf40256ffc31b2a697': ('tcp://10.128.9.21:36147',)}\n",
      "distributed.client - WARNING - Couldn't gather 1 keys, rescheduling {'reduce-d7d425d534540ccf40256ffc31b2a697': ('tcp://10.128.9.21:37199',)}\n",
      "distributed.client - WARNING - Couldn't gather 1 keys, rescheduling {'reduce-d7d425d534540ccf40256ffc31b2a697': ('tcp://10.128.9.21:43505',)}\n",
      "distributed.client - WARNING - Couldn't gather 1 keys, rescheduling {'reduce-d7d425d534540ccf40256ffc31b2a697': ('tcp://10.128.9.21:43043',)}\n",
      "distributed.client - WARNING - Couldn't gather 1 keys, rescheduling {'reduce-d7d425d534540ccf40256ffc31b2a697': ('tcp://10.128.9.21:43013',)}\n",
      "distributed.client - WARNING - Couldn't gather 1 keys, rescheduling {'reduce-d7d425d534540ccf40256ffc31b2a697': ('tcp://10.128.9.21:36945',)}\n",
      "distributed.client - WARNING - Couldn't gather 1 keys, rescheduling {'reduce-d7d425d534540ccf40256ffc31b2a697': ('tcp://10.128.9.21:35143',)}\n",
      "distributed.client - WARNING - Couldn't gather 1 keys, rescheduling {'reduce-d7d425d534540ccf40256ffc31b2a697': ('tcp://10.128.9.21:38211',)}\n",
      "distributed.client - WARNING - Couldn't gather 1 keys, rescheduling {'reduce-d7d425d534540ccf40256ffc31b2a697': ('tcp://10.128.9.21:38507',)}\n",
      "distributed.client - WARNING - Couldn't gather 1 keys, rescheduling {'reduce-d7d425d534540ccf40256ffc31b2a697': ('tcp://10.128.9.21:38469',)}\n",
      "distributed.client - WARNING - Couldn't gather 1 keys, rescheduling {'reduce-d7d425d534540ccf40256ffc31b2a697': ('tcp://10.128.9.21:36883',)}\n",
      "distributed.client - WARNING - Couldn't gather 1 keys, rescheduling {'reduce-d7d425d534540ccf40256ffc31b2a697': ('tcp://10.128.9.21:38467',)}\n",
      "distributed.client - WARNING - Couldn't gather 1 keys, rescheduling {'reduce-d7d425d534540ccf40256ffc31b2a697': ('tcp://10.128.9.21:34583',)}\n",
      "distributed.client - WARNING - Couldn't gather 1 keys, rescheduling {'reduce-d7d425d534540ccf40256ffc31b2a697': ('tcp://10.128.9.21:38409',)}\n",
      "distributed.client - WARNING - Couldn't gather 1 keys, rescheduling {'reduce-d7d425d534540ccf40256ffc31b2a697': ('tcp://10.128.9.21:34489',)}\n",
      "distributed.client - WARNING - Couldn't gather 1 keys, rescheduling {'reduce-d7d425d534540ccf40256ffc31b2a697': ('tcp://10.128.9.21:36755',)}\n",
      "distributed.client - WARNING - Couldn't gather 1 keys, rescheduling {'reduce-d7d425d534540ccf40256ffc31b2a697': ('tcp://10.128.9.21:38433',)}\n",
      "distributed.client - WARNING - Couldn't gather 1 keys, rescheduling {'reduce-d7d425d534540ccf40256ffc31b2a697': ('tcp://10.128.9.21:34429',)}\n"
     ]
    },
    {
     "ename": "KeyboardInterrupt",
     "evalue": "",
     "output_type": "error",
     "traceback": [
      "\u001b[0;31m---------------------------------------------------------------------------\u001b[0m",
      "\u001b[0;31mKeyboardInterrupt\u001b[0m                         Traceback (most recent call last)",
      "\u001b[0;32m<ipython-input-43-ce19fbf1cb78>\u001b[0m in \u001b[0;36m<module>\u001b[0;34m\u001b[0m\n\u001b[0;32m----> 1\u001b[0;31m \u001b[0mpi\u001b[0m \u001b[0;34m=\u001b[0m \u001b[0mdask_client\u001b[0m\u001b[0;34m.\u001b[0m\u001b[0msubmit\u001b[0m\u001b[0;34m(\u001b[0m\u001b[0mreduce\u001b[0m\u001b[0;34m,\u001b[0m \u001b[0mfutures\u001b[0m\u001b[0;34m)\u001b[0m\u001b[0;34m.\u001b[0m\u001b[0mresult\u001b[0m\u001b[0;34m(\u001b[0m\u001b[0;34m)\u001b[0m\u001b[0;34m\u001b[0m\u001b[0;34m\u001b[0m\u001b[0m\n\u001b[0m",
      "\u001b[0;32m~/.conda/envs/delta/lib/python3.7/site-packages/distributed/client.py\u001b[0m in \u001b[0;36mresult\u001b[0;34m(self, timeout)\u001b[0m\n\u001b[1;32m    217\u001b[0m \u001b[0;34m\u001b[0m\u001b[0m\n\u001b[1;32m    218\u001b[0m         \u001b[0;31m# shorten error traceback\u001b[0m\u001b[0;34m\u001b[0m\u001b[0;34m\u001b[0m\u001b[0;34m\u001b[0m\u001b[0m\n\u001b[0;32m--> 219\u001b[0;31m         \u001b[0mresult\u001b[0m \u001b[0;34m=\u001b[0m \u001b[0mself\u001b[0m\u001b[0;34m.\u001b[0m\u001b[0mclient\u001b[0m\u001b[0;34m.\u001b[0m\u001b[0msync\u001b[0m\u001b[0;34m(\u001b[0m\u001b[0mself\u001b[0m\u001b[0;34m.\u001b[0m\u001b[0m_result\u001b[0m\u001b[0;34m,\u001b[0m \u001b[0mcallback_timeout\u001b[0m\u001b[0;34m=\u001b[0m\u001b[0mtimeout\u001b[0m\u001b[0;34m,\u001b[0m \u001b[0mraiseit\u001b[0m\u001b[0;34m=\u001b[0m\u001b[0;32mFalse\u001b[0m\u001b[0;34m)\u001b[0m\u001b[0;34m\u001b[0m\u001b[0;34m\u001b[0m\u001b[0m\n\u001b[0m\u001b[1;32m    220\u001b[0m         \u001b[0;32mif\u001b[0m \u001b[0mself\u001b[0m\u001b[0;34m.\u001b[0m\u001b[0mstatus\u001b[0m \u001b[0;34m==\u001b[0m \u001b[0;34m\"error\"\u001b[0m\u001b[0;34m:\u001b[0m\u001b[0;34m\u001b[0m\u001b[0;34m\u001b[0m\u001b[0m\n\u001b[1;32m    221\u001b[0m             \u001b[0mtyp\u001b[0m\u001b[0;34m,\u001b[0m \u001b[0mexc\u001b[0m\u001b[0;34m,\u001b[0m \u001b[0mtb\u001b[0m \u001b[0;34m=\u001b[0m \u001b[0mresult\u001b[0m\u001b[0;34m\u001b[0m\u001b[0;34m\u001b[0m\u001b[0m\n",
      "\u001b[0;32m~/.conda/envs/delta/lib/python3.7/site-packages/distributed/client.py\u001b[0m in \u001b[0;36msync\u001b[0;34m(self, func, asynchronous, callback_timeout, *args, **kwargs)\u001b[0m\n\u001b[1;32m    765\u001b[0m         \u001b[0;32melse\u001b[0m\u001b[0;34m:\u001b[0m\u001b[0;34m\u001b[0m\u001b[0;34m\u001b[0m\u001b[0m\n\u001b[1;32m    766\u001b[0m             return sync(\n\u001b[0;32m--> 767\u001b[0;31m                 \u001b[0mself\u001b[0m\u001b[0;34m.\u001b[0m\u001b[0mloop\u001b[0m\u001b[0;34m,\u001b[0m \u001b[0mfunc\u001b[0m\u001b[0;34m,\u001b[0m \u001b[0;34m*\u001b[0m\u001b[0margs\u001b[0m\u001b[0;34m,\u001b[0m \u001b[0mcallback_timeout\u001b[0m\u001b[0;34m=\u001b[0m\u001b[0mcallback_timeout\u001b[0m\u001b[0;34m,\u001b[0m \u001b[0;34m**\u001b[0m\u001b[0mkwargs\u001b[0m\u001b[0;34m\u001b[0m\u001b[0;34m\u001b[0m\u001b[0m\n\u001b[0m\u001b[1;32m    768\u001b[0m             )\n\u001b[1;32m    769\u001b[0m \u001b[0;34m\u001b[0m\u001b[0m\n",
      "\u001b[0;32m~/.conda/envs/delta/lib/python3.7/site-packages/distributed/utils.py\u001b[0m in \u001b[0;36msync\u001b[0;34m(loop, func, callback_timeout, *args, **kwargs)\u001b[0m\n\u001b[1;32m    329\u001b[0m     \u001b[0;32melse\u001b[0m\u001b[0;34m:\u001b[0m\u001b[0;34m\u001b[0m\u001b[0;34m\u001b[0m\u001b[0m\n\u001b[1;32m    330\u001b[0m         \u001b[0;32mwhile\u001b[0m \u001b[0;32mnot\u001b[0m \u001b[0me\u001b[0m\u001b[0;34m.\u001b[0m\u001b[0mis_set\u001b[0m\u001b[0;34m(\u001b[0m\u001b[0;34m)\u001b[0m\u001b[0;34m:\u001b[0m\u001b[0;34m\u001b[0m\u001b[0;34m\u001b[0m\u001b[0m\n\u001b[0;32m--> 331\u001b[0;31m             \u001b[0me\u001b[0m\u001b[0;34m.\u001b[0m\u001b[0mwait\u001b[0m\u001b[0;34m(\u001b[0m\u001b[0;36m10\u001b[0m\u001b[0;34m)\u001b[0m\u001b[0;34m\u001b[0m\u001b[0;34m\u001b[0m\u001b[0m\n\u001b[0m\u001b[1;32m    332\u001b[0m     \u001b[0;32mif\u001b[0m \u001b[0merror\u001b[0m\u001b[0;34m[\u001b[0m\u001b[0;36m0\u001b[0m\u001b[0;34m]\u001b[0m\u001b[0;34m:\u001b[0m\u001b[0;34m\u001b[0m\u001b[0;34m\u001b[0m\u001b[0m\n\u001b[1;32m    333\u001b[0m         \u001b[0mtyp\u001b[0m\u001b[0;34m,\u001b[0m \u001b[0mexc\u001b[0m\u001b[0;34m,\u001b[0m \u001b[0mtb\u001b[0m \u001b[0;34m=\u001b[0m \u001b[0merror\u001b[0m\u001b[0;34m[\u001b[0m\u001b[0;36m0\u001b[0m\u001b[0;34m]\u001b[0m\u001b[0;34m\u001b[0m\u001b[0;34m\u001b[0m\u001b[0m\n",
      "\u001b[0;32m~/.conda/envs/delta/lib/python3.7/threading.py\u001b[0m in \u001b[0;36mwait\u001b[0;34m(self, timeout)\u001b[0m\n\u001b[1;32m    550\u001b[0m             \u001b[0msignaled\u001b[0m \u001b[0;34m=\u001b[0m \u001b[0mself\u001b[0m\u001b[0;34m.\u001b[0m\u001b[0m_flag\u001b[0m\u001b[0;34m\u001b[0m\u001b[0;34m\u001b[0m\u001b[0m\n\u001b[1;32m    551\u001b[0m             \u001b[0;32mif\u001b[0m \u001b[0;32mnot\u001b[0m \u001b[0msignaled\u001b[0m\u001b[0;34m:\u001b[0m\u001b[0;34m\u001b[0m\u001b[0;34m\u001b[0m\u001b[0m\n\u001b[0;32m--> 552\u001b[0;31m                 \u001b[0msignaled\u001b[0m \u001b[0;34m=\u001b[0m \u001b[0mself\u001b[0m\u001b[0;34m.\u001b[0m\u001b[0m_cond\u001b[0m\u001b[0;34m.\u001b[0m\u001b[0mwait\u001b[0m\u001b[0;34m(\u001b[0m\u001b[0mtimeout\u001b[0m\u001b[0;34m)\u001b[0m\u001b[0;34m\u001b[0m\u001b[0;34m\u001b[0m\u001b[0m\n\u001b[0m\u001b[1;32m    553\u001b[0m             \u001b[0;32mreturn\u001b[0m \u001b[0msignaled\u001b[0m\u001b[0;34m\u001b[0m\u001b[0;34m\u001b[0m\u001b[0m\n\u001b[1;32m    554\u001b[0m \u001b[0;34m\u001b[0m\u001b[0m\n",
      "\u001b[0;32m~/.conda/envs/delta/lib/python3.7/threading.py\u001b[0m in \u001b[0;36mwait\u001b[0;34m(self, timeout)\u001b[0m\n\u001b[1;32m    298\u001b[0m             \u001b[0;32melse\u001b[0m\u001b[0;34m:\u001b[0m\u001b[0;34m\u001b[0m\u001b[0;34m\u001b[0m\u001b[0m\n\u001b[1;32m    299\u001b[0m                 \u001b[0;32mif\u001b[0m \u001b[0mtimeout\u001b[0m \u001b[0;34m>\u001b[0m \u001b[0;36m0\u001b[0m\u001b[0;34m:\u001b[0m\u001b[0;34m\u001b[0m\u001b[0;34m\u001b[0m\u001b[0m\n\u001b[0;32m--> 300\u001b[0;31m                     \u001b[0mgotit\u001b[0m \u001b[0;34m=\u001b[0m \u001b[0mwaiter\u001b[0m\u001b[0;34m.\u001b[0m\u001b[0macquire\u001b[0m\u001b[0;34m(\u001b[0m\u001b[0;32mTrue\u001b[0m\u001b[0;34m,\u001b[0m \u001b[0mtimeout\u001b[0m\u001b[0;34m)\u001b[0m\u001b[0;34m\u001b[0m\u001b[0;34m\u001b[0m\u001b[0m\n\u001b[0m\u001b[1;32m    301\u001b[0m                 \u001b[0;32melse\u001b[0m\u001b[0;34m:\u001b[0m\u001b[0;34m\u001b[0m\u001b[0;34m\u001b[0m\u001b[0m\n\u001b[1;32m    302\u001b[0m                     \u001b[0mgotit\u001b[0m \u001b[0;34m=\u001b[0m \u001b[0mwaiter\u001b[0m\u001b[0;34m.\u001b[0m\u001b[0macquire\u001b[0m\u001b[0;34m(\u001b[0m\u001b[0;32mFalse\u001b[0m\u001b[0;34m)\u001b[0m\u001b[0;34m\u001b[0m\u001b[0;34m\u001b[0m\u001b[0m\n",
      "\u001b[0;31mKeyboardInterrupt\u001b[0m: "
     ]
    },
    {
     "name": "stderr",
     "output_type": "stream",
     "text": [
      "distributed.client - WARNING - Couldn't gather 1 keys, rescheduling {'reduce-d7d425d534540ccf40256ffc31b2a697': ('tcp://10.128.9.21:34313',)}\n"
     ]
    }
   ],
   "source": [
    "pi = dask_client.submit(reduce, futures).result()"
   ]
  },
  {
   "cell_type": "code",
   "execution_count": 13,
   "metadata": {},
   "outputs": [],
   "source": [
    "class foo():\n",
    "    def __init__(self, dv):\n",
    "        self.dv = dv\n",
    "        \n",
    "    def print(self, dv=None):\n",
    "        if dv is None:\n",
    "            dv = self.dv\n",
    "        print(dv)\n",
    "        \n"
   ]
  },
  {
   "cell_type": "code",
   "execution_count": 14,
   "metadata": {},
   "outputs": [],
   "source": [
    "f = foo(12)"
   ]
  },
  {
   "cell_type": "code",
   "execution_count": 15,
   "metadata": {},
   "outputs": [
    {
     "name": "stdout",
     "output_type": "stream",
     "text": [
      "12\n"
     ]
    }
   ],
   "source": [
    "f.print()"
   ]
  },
  {
   "cell_type": "code",
   "execution_count": null,
   "metadata": {},
   "outputs": [],
   "source": []
  }
 ],
 "metadata": {
  "kernelspec": {
   "display_name": "delta",
   "language": "python",
   "name": "delta"
  },
  "language_info": {
   "codemirror_mode": {
    "name": "ipython",
    "version": 3
   },
   "file_extension": ".py",
   "mimetype": "text/x-python",
   "name": "python",
   "nbconvert_exporter": "python",
   "pygments_lexer": "ipython3",
   "version": "3.7.3"
  }
 },
 "nbformat": 4,
 "nbformat_minor": 4
}
