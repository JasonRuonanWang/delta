{
 "cells": [
  {
   "cell_type": "markdown",
   "metadata": {},
   "source": [
    "2020-01-24: something was wrong with the bicoherence routine in tasks_mpi. Turned out to be a forgotten semicolon after\n",
    "ch2_idx when defining YY at the top of the routine\n",
    "YY = np.fft.fftshift(fft_data[ch2_idx, :, :], axes=0).T"
   ]
  },
  {
   "cell_type": "code",
   "execution_count": 1,
   "metadata": {},
   "outputs": [],
   "source": [
    "%load_ext autoreload\n",
    "%autoreload 2"
   ]
  },
  {
   "cell_type": "code",
   "execution_count": 10,
   "metadata": {},
   "outputs": [],
   "source": [
    "import sys\n",
    "sys.path.append(\"/global/homes/r/rkube/repos/delta\")\n",
    "import numpy as np\n",
    "import json"
   ]
  },
  {
   "cell_type": "code",
   "execution_count": 35,
   "metadata": {},
   "outputs": [],
   "source": [
    "from analysis.tasks_mpi import bicoherence\n",
    "from analysis.task_fft import task_fft_scipy"
   ]
  },
  {
   "cell_type": "code",
   "execution_count": 36,
   "metadata": {},
   "outputs": [],
   "source": []
  },
  {
   "cell_type": "code",
   "execution_count": 31,
   "metadata": {},
   "outputs": [],
   "source": [
    "from analysis.channels import channel, channel_range, channel_pair"
   ]
  },
  {
   "cell_type": "code",
   "execution_count": 15,
   "metadata": {},
   "outputs": [],
   "source": [
    "with open(\"../configs/test_bicoherence.json\") as df:\n",
    "    cfg = json.load(df)"
   ]
  },
  {
   "cell_type": "code",
   "execution_count": 19,
   "metadata": {},
   "outputs": [],
   "source": [
    "# Create an fft object and generate fft data as in processor_mpi\n",
    "cfg[\"fft_params\"][\"fsample\"] = cfg[\"ECEI_cfg\"][\"SampleRate\"] * 1e3\n",
    "my_fft = task_fft_scipy(10_000, cfg[\"fft_params\"], normalize=True, detrend=True)"
   ]
  },
  {
   "cell_type": "code",
   "execution_count": 7,
   "metadata": {},
   "outputs": [],
   "source": [
    "data = np.random.uniform(0.0, 1.0, [192, 10_000])"
   ]
  },
  {
   "cell_type": "code",
   "execution_count": 20,
   "metadata": {},
   "outputs": [],
   "source": [
    "fft_data = my_fft.do_fft_local(data)"
   ]
  },
  {
   "cell_type": "code",
   "execution_count": 21,
   "metadata": {},
   "outputs": [
    {
     "data": {
      "text/plain": [
       "(192, 512, 38)"
      ]
     },
     "execution_count": 21,
     "metadata": {},
     "output_type": "execute_result"
    }
   ],
   "source": [
    "fft_data.shape"
   ]
  },
  {
   "cell_type": "code",
   "execution_count": 32,
   "metadata": {},
   "outputs": [],
   "source": [
    "# Create a dummy channel pair list"
   ]
  },
  {
   "cell_type": "code",
   "execution_count": 33,
   "metadata": {},
   "outputs": [],
   "source": [
    "chrg_ref = channel_range.from_str(cfg[\"task_list\"][0][\"ref_channels\"])\n",
    "chrg_cmp = channel_range.from_str(cfg[\"task_list\"][0][\"cmp_channels\"])\n",
    "\n",
    "chpair_list = [channel_pair(ch1, ch2) for ch1, ch2 in zip(chrg_ref, chrg_cmp)]\n"
   ]
  },
  {
   "cell_type": "code",
   "execution_count": 45,
   "metadata": {},
   "outputs": [
    {
     "name": "stdout",
     "output_type": "stream",
     "text": [
      "yo\n",
      "(512,) (512,)\n",
      "(512,) (512,)\n",
      "(512,) (512,)\n",
      "(512,) (512,)\n",
      "(512,) (512,)\n",
      "(512,) (512,)\n",
      "(512,) (512,)\n",
      "(512,) (512,)\n",
      "(512,) (512,)\n",
      "(512,) (512,)\n",
      "(512,) (512,)\n",
      "(512,) (512,)\n",
      "(512,) (512,)\n",
      "(512,) (512,)\n",
      "(512,) (512,)\n",
      "(512,) (512,)\n",
      "(512,) (512,)\n",
      "(512,) (512,)\n",
      "(512,) (512,)\n",
      "(512,) (512,)\n",
      "(512,) (512,)\n",
      "(512,) (512,)\n",
      "(512,) (512,)\n",
      "(512,) (512,)\n",
      "(512,) (512,)\n",
      "(512,) (512,)\n",
      "(512,) (512,)\n",
      "(512,) (512,)\n",
      "(512,) (512,)\n",
      "(512,) (512,)\n",
      "(512,) (512,)\n",
      "(512,) (512,)\n",
      "(512,) (512,)\n",
      "(512,) (512,)\n",
      "(512,) (512,)\n",
      "(512,) (512,)\n",
      "(512,) (512,)\n",
      "(512,) (512,)\n"
     ]
    },
    {
     "name": "stderr",
     "output_type": "stream",
     "text": [
      "/global/homes/r/rkube/.conda/envs/delta/lib/python3.7/site-packages/ipykernel_launcher.py:55: RuntimeWarning: invalid value encountered in true_divide\n"
     ]
    },
    {
     "ename": "TypeError",
     "evalue": "append() takes exactly one argument (2 given)",
     "output_type": "error",
     "traceback": [
      "\u001b[0;31m---------------------------------------------------------------------------\u001b[0m",
      "\u001b[0;31mTypeError\u001b[0m                                 Traceback (most recent call last)",
      "\u001b[0;32m<ipython-input-45-fb2333f6aef4>\u001b[0m in \u001b[0;36m<module>\u001b[0;34m\u001b[0m\n\u001b[0;32m----> 1\u001b[0;31m \u001b[0mbicoherence\u001b[0m\u001b[0;34m(\u001b[0m\u001b[0mfft_data\u001b[0m\u001b[0;34m,\u001b[0m \u001b[0mchpair_list\u001b[0m\u001b[0;34m,\u001b[0m \u001b[0mcfg\u001b[0m\u001b[0;34m[\u001b[0m\u001b[0;34m'fft_params'\u001b[0m\u001b[0;34m]\u001b[0m\u001b[0;34m,\u001b[0m \u001b[0;32mNone\u001b[0m\u001b[0;34m)\u001b[0m\u001b[0;34m\u001b[0m\u001b[0;34m\u001b[0m\u001b[0m\n\u001b[0m",
      "\u001b[0;32m<ipython-input-44-37d458886d07>\u001b[0m in \u001b[0;36mbicoherence\u001b[0;34m(fft_data, ch_it, fft_params, info_dict)\u001b[0m\n\u001b[1;32m     66\u001b[0m         \u001b[0msum_val\u001b[0m \u001b[0;34m=\u001b[0m \u001b[0msum_val\u001b[0m \u001b[0;34m/\u001b[0m \u001b[0mN\u001b[0m \u001b[0;31m# element wise division\u001b[0m\u001b[0;34m\u001b[0m\u001b[0;34m\u001b[0m\u001b[0m\n\u001b[1;32m     67\u001b[0m \u001b[0;34m\u001b[0m\u001b[0m\n\u001b[0;32m---> 68\u001b[0;31m         \u001b[0mres_list\u001b[0m\u001b[0;34m.\u001b[0m\u001b[0mappend\u001b[0m\u001b[0;34m(\u001b[0m\u001b[0mval\u001b[0m\u001b[0;34m,\u001b[0m \u001b[0msum_val\u001b[0m\u001b[0;34m)\u001b[0m\u001b[0;34m\u001b[0m\u001b[0;34m\u001b[0m\u001b[0m\n\u001b[0m\u001b[1;32m     69\u001b[0m \u001b[0;34m\u001b[0m\u001b[0m\n\u001b[1;32m     70\u001b[0m     \u001b[0;32mreturn\u001b[0m \u001b[0;34m(\u001b[0m\u001b[0mres_list\u001b[0m\u001b[0;34m,\u001b[0m \u001b[0minfo_dict\u001b[0m\u001b[0;34m)\u001b[0m\u001b[0;34m\u001b[0m\u001b[0;34m\u001b[0m\u001b[0m\n",
      "\u001b[0;31mTypeError\u001b[0m: append() takes exactly one argument (2 given)"
     ]
    }
   ],
   "source": [
    "bicoherence(fft_data, chpair_list, cfg['fft_params'], None)"
   ]
  },
  {
   "cell_type": "code",
   "execution_count": null,
   "metadata": {},
   "outputs": [],
   "source": [
    "ch"
   ]
  }
 ],
 "metadata": {
  "kernelspec": {
   "display_name": "delta",
   "language": "python",
   "name": "delta"
  },
  "language_info": {
   "codemirror_mode": {
    "name": "ipython",
    "version": 3
   },
   "file_extension": ".py",
   "mimetype": "text/x-python",
   "name": "python",
   "nbconvert_exporter": "python",
   "pygments_lexer": "ipython3",
   "version": "3.7.6"
  }
 },
 "nbformat": 4,
 "nbformat_minor": 4
}
