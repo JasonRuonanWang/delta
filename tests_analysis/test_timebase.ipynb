{
 "cells": [
  {
   "cell_type": "markdown",
   "metadata": {},
   "source": [
    "Work out how the timebase works\n",
    "\n",
    "\n",
    "KstarEcei defines members \n",
    "time_base_full and\n",
    "time_base\n",
    "\n",
    "We need to understand how they work"
   ]
  },
  {
   "cell_type": "code",
   "execution_count": 9,
   "metadata": {},
   "outputs": [],
   "source": [
    "import numpy as np"
   ]
  },
  {
   "cell_type": "code",
   "execution_count": 31,
   "metadata": {},
   "outputs": [],
   "source": [
    "tt = [-0.12, 61.2, 60]\n",
    "toff = tt[0] + 0.001\n",
    "fs = 500 * 1000.0"
   ]
  },
  {
   "cell_type": "code",
   "execution_count": null,
   "metadata": {},
   "outputs": [],
   "source": []
  },
  {
   "cell_type": "code",
   "execution_count": 32,
   "metadata": {},
   "outputs": [
    {
     "name": "stdout",
     "output_type": "stream",
     "text": [
      "0\n",
      "i = 0, t0 = -0.12, pl = 61.20, t1 = 60.00\n"
     ]
    }
   ],
   "source": [
    "def time_base_full(tt, toff, fs):\n",
    "    ENUM = 5_000_000\n",
    "    # using self.tt, self.toff, self.fs; get self.time\n",
    "    if int(len(tt)) == 2:\n",
    "        pl = tt[1] - tt[0] + 0.1\n",
    "        tt = [tt[0], pl, tt[1]]\n",
    "        \n",
    "        print(pl)\n",
    "        print(tt)\n",
    "\n",
    "    fulltime = []\n",
    "    for i in range(0, len(tt) // 3):\n",
    "        print(i)\n",
    "        t0 = tt[i*3]\n",
    "        pl = tt[i*3+1]\n",
    "        t1 = tt[i*3+2]\n",
    "        \n",
    "        print(\"i = {0:d}, t0 = {1:4.2f}, pl = {2:4.2f}, t1 = {3:4.2f}\".format(i, t0, pl, t1))\n",
    "        \n",
    "        cnt = 0\n",
    "        for ti in np.arange(t0, t1, pl):\n",
    "            cnt = cnt + 1\n",
    "            if cnt % 2 == 0: continue\n",
    "            if ti+pl > t1:\n",
    "                fulltime = np.append(fulltime,np.arange(ti, t1, 1/fs))\n",
    "            else:\n",
    "                fulltime = np.append(fulltime,np.arange(ti, ti+pl, 1/fs))\n",
    "            if len(fulltime) > ENUM:\n",
    "                break\n",
    "        if len(fulltime) > ENUM:\n",
    "            break\n",
    "\n",
    "    return fulltime[0:ENUM] #RMC - Changed from (ENUM+1), to make array size ENUM\n",
    "\n",
    "\n",
    "tb = time_base_full(tt, toff, fs)"
   ]
  },
  {
   "cell_type": "code",
   "execution_count": 34,
   "metadata": {},
   "outputs": [
    {
     "data": {
      "text/plain": [
       "array([-0.12])"
      ]
     },
     "execution_count": 34,
     "metadata": {},
     "output_type": "execute_result"
    }
   ],
   "source": [
    "np.arange(-0.12, 60.0, 61.2)"
   ]
  },
  {
   "cell_type": "code",
   "execution_count": 35,
   "metadata": {},
   "outputs": [
    {
     "data": {
      "text/plain": [
       "array([0. , 0.1, 0.2, 0.3, 0.4, 0.5, 0.6, 0.7, 0.8, 0.9])"
      ]
     },
     "execution_count": 35,
     "metadata": {},
     "output_type": "execute_result"
    }
   ],
   "source": [
    "np.arange(0.0, 1.0, 0.1)"
   ]
  },
  {
   "cell_type": "code",
   "execution_count": null,
   "metadata": {},
   "outputs": [],
   "source": []
  }
 ],
 "metadata": {
  "kernelspec": {
   "display_name": "Python 3",
   "language": "python",
   "name": "python3"
  },
  "language_info": {
   "codemirror_mode": {
    "name": "ipython",
    "version": 3
   },
   "file_extension": ".py",
   "mimetype": "text/x-python",
   "name": "python",
   "nbconvert_exporter": "python",
   "pygments_lexer": "ipython3",
   "version": "3.7.3"
  }
 },
 "nbformat": 4,
 "nbformat_minor": 4
}
