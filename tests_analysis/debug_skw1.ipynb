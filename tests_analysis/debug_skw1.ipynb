{
 "cells": [
  {
   "cell_type": "markdown",
   "metadata": {},
   "source": [
    "2020-01-24: something was wrong with the skw routine in tasks_mpi. Turned out that we are \n",
    "still calculating the conditional spectra one-by-one for each channel.\n",
    "Some indentation was missing"
   ]
  },
  {
   "cell_type": "code",
   "execution_count": 4,
   "metadata": {},
   "outputs": [],
   "source": [
    "%load_ext autoreload\n",
    "%autoreload 2"
   ]
  },
  {
   "cell_type": "code",
   "execution_count": 73,
   "metadata": {},
   "outputs": [],
   "source": [
    "import sys\n",
    "sys.path.append(\"/global/homes/r/rkube/repos/delta\")\n",
    "import numpy as np\n",
    "import json\n",
    "import more_itertools"
   ]
  },
  {
   "cell_type": "code",
   "execution_count": 74,
   "metadata": {},
   "outputs": [],
   "source": [
    "#from analysis.tasks_mpi import bicoherence\n",
    "from analysis.task_fft import task_fft_scipy"
   ]
  },
  {
   "cell_type": "code",
   "execution_count": 75,
   "metadata": {},
   "outputs": [],
   "source": [
    "from analysis.ecei_helper import channel_position"
   ]
  },
  {
   "cell_type": "code",
   "execution_count": 76,
   "metadata": {},
   "outputs": [],
   "source": [
    "from analysis.channels import channel, channel_range, channel_pair"
   ]
  },
  {
   "cell_type": "code",
   "execution_count": 77,
   "metadata": {},
   "outputs": [],
   "source": [
    "with open(\"../configs/test_skw.json\") as df:\n",
    "    cfg = json.load(df)"
   ]
  },
  {
   "cell_type": "code",
   "execution_count": 78,
   "metadata": {},
   "outputs": [],
   "source": [
    "# Create an fft object and generate fft data as in processor_mpi\n",
    "cfg[\"fft_params\"][\"fsample\"] = cfg[\"ECEI_cfg\"][\"SampleRate\"] * 1e3\n",
    "my_fft = task_fft_scipy(10_000, cfg[\"fft_params\"], normalize=True, detrend=True)\n",
    "\n",
    "fft_params = my_fft.get_fft_params()"
   ]
  },
  {
   "cell_type": "code",
   "execution_count": 79,
   "metadata": {},
   "outputs": [],
   "source": [
    "data = np.random.uniform(0.0, 1.0, [192, 10_000])"
   ]
  },
  {
   "cell_type": "code",
   "execution_count": 80,
   "metadata": {},
   "outputs": [],
   "source": [
    "fft_data = my_fft.do_fft_local(data)"
   ]
  },
  {
   "cell_type": "code",
   "execution_count": 81,
   "metadata": {},
   "outputs": [
    {
     "data": {
      "text/plain": [
       "(192, 512, 38)"
      ]
     },
     "execution_count": 81,
     "metadata": {},
     "output_type": "execute_result"
    }
   ],
   "source": [
    "fft_data.shape"
   ]
  },
  {
   "cell_type": "code",
   "execution_count": 82,
   "metadata": {},
   "outputs": [],
   "source": [
    "# Create a dummy channel pair list"
   ]
  },
  {
   "cell_type": "code",
   "execution_count": 83,
   "metadata": {},
   "outputs": [],
   "source": [
    "chrg_ref = channel_range.from_str(cfg[\"task_list\"][0][\"ref_channels\"])\n",
    "chrg_cmp = channel_range.from_str(cfg[\"task_list\"][0][\"cmp_channels\"])\n",
    "\n",
    "channel_pairs = [channel_pair(cr, cx) for cr in chrg_ref for cx in chrg_cmp]\n",
    "\n",
    "chpair_list = list([i[0] for i in more_itertools.distinct_combinations(channel_pairs, 1)])\n",
    "\n",
    "\n",
    "#chpair_list = [channel_pair(ch1, ch2) for ch1, ch2 in zip(chrg_ref, chrg_cmp)]"
   ]
  },
  {
   "cell_type": "code",
   "execution_count": 84,
   "metadata": {},
   "outputs": [
    {
     "name": "stdout",
     "output_type": "stream",
     "text": [
      "channel_pair: (ch1=L0101, ch2=L0103)\n"
     ]
    }
   ],
   "source": [
    "print(chpair_list[2])"
   ]
  },
  {
   "cell_type": "code",
   "execution_count": null,
   "metadata": {},
   "outputs": [],
   "source": []
  },
  {
   "cell_type": "code",
   "execution_count": null,
   "metadata": {},
   "outputs": [],
   "source": []
  },
  {
   "cell_type": "code",
   "execution_count": 85,
   "metadata": {},
   "outputs": [],
   "source": [
    "def skw(fft_data, ch_it, fft_params, ecei_config, info_dict, kstep=0.01): \n",
    "    \"\"\"\n",
    "    Calculates the conditional spectrum S(k,w).\n",
    "\n",
    "    Input:\n",
    "    ======\n",
    "    fft_data: dask_array, float: Contains the fourier-transformed data. dim0: channel, dim1: Fourier Coefficients\n",
    "    ch0: channel, first channel\n",
    "    ch1: channel, second channel\n",
    "    fft_params: dictionary, parameters for fft\n",
    "    ecei_config: dictionary, configuration of ecei diagnostic\n",
    "\n",
    "\n",
    "    Returns:\n",
    "    ========\n",
    "    bicoherence, float.\n",
    "    \"\"\"\n",
    "\n",
    "    from analysis.ecei_helper import channel_position\n",
    "\n",
    "    res_list = []\n",
    "    for ch_pair in ch_it:\n",
    "\n",
    "        ch1 = ch_pair.ch1\n",
    "        ch2 = ch_pair.ch2\n",
    "        ch1_idx, ch2_idx = ch1.idx(), ch2.idx()\n",
    "        print(\"Calculating skw for channels {0}x{1}\".format(ch1, ch2))\n",
    "\n",
    "        nfft = int(fft_params[\"nfft\"])\n",
    "\n",
    "        if(ch1_idx == ch2_idx):\n",
    "            # We can't calculate the cross-conditional spectrum for ch0==ch1\n",
    "            res_list.append(None)\n",
    "            continue\n",
    "\n",
    "        XX = np.fft.fftshift(fft_data[ch1_idx, :, :], axes=0).T\n",
    "        YY = np.fft.fftshift(fft_data[ch2_idx, :, :], axes=0).T\n",
    "\n",
    "        bins, _ = XX.shape\n",
    "        win_factor = fft_params[\"win_factor\"]\n",
    "\n",
    "        cpos_ref = channel_position(ch1, ecei_config)\n",
    "        cpos_cmp = channel_position(ch2, ecei_config)\n",
    "\n",
    "        # Calculate distance between channels\n",
    "        dist = np.sqrt( (cpos_ref[0] - cpos_cmp[0])**2.0 + (cpos_ref[1] - cpos_cmp[1])**2.0)\n",
    "        dmin = dist * 1e2\n",
    "\n",
    "        kax = np.arange(-np.pi / dmin, np.pi / dmin, kstep)\n",
    "\n",
    "        nkax = kax.size\n",
    "\n",
    "\n",
    "        # value dimension\n",
    "        Pxx = np.zeros((bins, nfft), dtype=np.complex_)\n",
    "        Pyy = np.zeros((bins, nfft), dtype=np.complex_)\n",
    "        Kxy = np.zeros((bins, nfft), dtype=np.complex_)\n",
    "        val = np.zeros((nkax, nfft), dtype=np.complex_)\n",
    "\n",
    "        sklw = np.zeros((nkax, nfft), dtype=np.complex_)\n",
    "        K = np.zeros(nfft, dtype=np.complex_)\n",
    "        sigK = np.zeros(nfft, dtype=np.complex_)\n",
    "\n",
    "        #logging.info(f\"nkax = {nkax:d}, nfft = {nfft:d}, dmin = {dmin:f}\")\n",
    "\n",
    "        # calculate auto power and cross phase (wavenumber)\n",
    "        for b in range(bins):\n",
    "            X = XX[b, :]\n",
    "            Y = YY[b, :]\n",
    "\n",
    "            Pxx[b,:] = X*np.matrix.conjugate(X) / win_factor\n",
    "            Pyy[b,:] = Y*np.matrix.conjugate(Y) / win_factor\n",
    "            Pxy = X*np.matrix.conjugate(Y)\n",
    "            Kxy[b,:] = np.arctan2(Pxy.imag, Pxy.real).real / (dist * 100) # [cm^-1]\n",
    "                                                            \n",
    "            # calculate SKw\n",
    "            for w in range(nfft):\n",
    "                idx = (Kxy[b,w] - kstep * 0.5 < kax) * (kax < Kxy[b,w] + kstep * 0.5)\n",
    "                val[:,w] = val[:,w] + (1.0 / bins * (Pxx[b,w] + Pyy[b,w]) * 0.5) * idx\n",
    "\n",
    "        # calculate moments\n",
    "        sklw = val / np.tile(val.sum(axis=0), (nkax, 1))\n",
    "        K[:] = np.sum(np.transpose(np.tile(kax, (nfft, 1))) * sklw, axis=0)\n",
    "        for w in range(nfft):\n",
    "            sigK[w] = np.sqrt(np.sum( (kax - K[w])**2 * sklw[:,w] ))\n",
    "\n",
    "        val = val.mean(axis=0).real\n",
    "        K = np.mean(K, axis=0)\n",
    "        sigK = np.mean(sigK, axis=0)\n",
    "        pdata = np.log10(val + 1e-10)\n",
    "\n",
    "        res_list.append(pdata)\n",
    "\n",
    "    print(\"Finished skw analysis. len(res_list) = \", len(res_list))\n",
    "\n",
    "    return(res_list, info_dict)"
   ]
  },
  {
   "cell_type": "code",
   "execution_count": 86,
   "metadata": {},
   "outputs": [
    {
     "name": "stdout",
     "output_type": "stream",
     "text": [
      "L0101 L0102\n"
     ]
    }
   ],
   "source": [
    "print(chpair_list[1].ch1, chpair_list[1].ch2)"
   ]
  },
  {
   "cell_type": "code",
   "execution_count": 87,
   "metadata": {},
   "outputs": [
    {
     "name": "stdout",
     "output_type": "stream",
     "text": [
      "L0101 (1.3813407218347238, -0.20742868943129145, -0.009121291139657118) L0101 (1.3813407218347238, -0.20742868943129145, -0.009121291139657118) 0.0\n",
      "L0101 (1.3813407218347238, -0.20742868943129145, -0.009121291139657118) L0102 (1.3813407218347238, -0.18939141208944, -0.008328135388382587) 0.018037277341851454\n",
      "L0101 (1.3813407218347238, -0.20742868943129145, -0.009121291139657118) L0103 (1.3813407218347238, -0.17135413474758857, -0.0075349796371080545) 0.03607455468370288\n",
      "L0101 (1.3813407218347238, -0.20742868943129145, -0.009121291139657118) L0104 (1.3813407218347238, -0.15331685740573717, -0.006741823885833522) 0.05411183202555428\n",
      "L0102 (1.3813407218347238, -0.18939141208944, -0.008328135388382587) L0102 (1.3813407218347238, -0.18939141208944, -0.008328135388382587) 0.0\n",
      "L0102 (1.3813407218347238, -0.18939141208944, -0.008328135388382587) L0103 (1.3813407218347238, -0.17135413474758857, -0.0075349796371080545) 0.018037277341851427\n",
      "L0102 (1.3813407218347238, -0.18939141208944, -0.008328135388382587) L0104 (1.3813407218347238, -0.15331685740573717, -0.006741823885833522) 0.036074554683702825\n",
      "L0103 (1.3813407218347238, -0.17135413474758857, -0.0075349796371080545) L0103 (1.3813407218347238, -0.17135413474758857, -0.0075349796371080545) 0.0\n",
      "L0103 (1.3813407218347238, -0.17135413474758857, -0.0075349796371080545) L0104 (1.3813407218347238, -0.15331685740573717, -0.006741823885833522) 0.0180372773418514\n",
      "L0104 (1.3813407218347238, -0.15331685740573717, -0.006741823885833522) L0104 (1.3813407218347238, -0.15331685740573717, -0.006741823885833522) 0.0\n"
     ]
    }
   ],
   "source": [
    "for ch_pair in chpair_list:\n",
    "    ch1 = ch_pair.ch1\n",
    "    ch2 = ch_pair.ch2\n",
    "    \n",
    "    cpos_ref = channel_position(ch1, cfg['ECEI_cfg'])\n",
    "    cpos_cmp = channel_position(ch2, cfg['ECEI_cfg'])\n",
    "    dist = np.sqrt( (cpos_ref[0] - cpos_cmp[0])**2.0 + (cpos_ref[1] - cpos_cmp[1])**2.0)\n",
    "\n",
    "    print(ch1, cpos_ref, ch2, cpos_cmp, dist)"
   ]
  },
  {
   "cell_type": "code",
   "execution_count": null,
   "metadata": {},
   "outputs": [],
   "source": []
  },
  {
   "cell_type": "code",
   "execution_count": null,
   "metadata": {},
   "outputs": [],
   "source": []
  },
  {
   "cell_type": "code",
   "execution_count": 88,
   "metadata": {},
   "outputs": [
    {
     "name": "stdout",
     "output_type": "stream",
     "text": [
      "Calculating skw for channels L0101xL0101\n",
      "Calculating skw for channels L0101xL0102\n",
      "Finished skw analysis. len(res_list) =  2\n"
     ]
    }
   ],
   "source": [
    "res = skw(fft_data, chpair_list[0:2], fft_params, cfg['ECEI_cfg'], None)"
   ]
  },
  {
   "cell_type": "code",
   "execution_count": 72,
   "metadata": {},
   "outputs": [
    {
     "ename": "SyntaxError",
     "evalue": "invalid syntax (<ipython-input-72-664caa0ae96d>, line 1)",
     "output_type": "error",
     "traceback": [
      "\u001b[0;36m  File \u001b[0;32m\"<ipython-input-72-664caa0ae96d>\"\u001b[0;36m, line \u001b[0;32m1\u001b[0m\n\u001b[0;31m    32res[0][0]\u001b[0m\n\u001b[0m        ^\u001b[0m\n\u001b[0;31mSyntaxError\u001b[0m\u001b[0;31m:\u001b[0m invalid syntax\n"
     ]
    }
   ],
   "source": []
  },
  {
   "cell_type": "code",
   "execution_count": 48,
   "metadata": {},
   "outputs": [],
   "source": [
    "GG, _ = coherence(fft_data, chpair_list, fft_params, cfg['ECEI_cfg']);"
   ]
  },
  {
   "cell_type": "code",
   "execution_count": 56,
   "metadata": {},
   "outputs": [
    {
     "data": {
      "text/plain": [
       "array([[0.05263158, 0.1705434 , 0.03399223, 0.09730163, 0.1151428 ,\n",
       "        0.04514039, 0.02582669, 0.04684854, 0.111333  , 0.00809159,\n",
       "        0.0078383 , 0.1420049 , 0.14719808, 0.16388938, 0.12367904,\n",
       "        0.1120856 , 0.03497395, 0.17878891, 0.04959764, 0.2273268 ,\n",
       "        0.13756835, 0.00813338, 0.21021674, 0.23607948, 0.0524827 ,\n",
       "        0.07427034, 0.02956471, 0.12235664, 0.00750519, 0.04539071,\n",
       "        0.17916188, 0.15265389, 0.19430126, 0.23531223, 0.15693133,\n",
       "        0.18826967, 0.0451555 , 0.05531797, 0.10789615, 0.05386624,\n",
       "        0.03803497, 0.16346597, 0.03027807, 0.0820435 , 0.09863577,\n",
       "        0.19532314, 0.14523585, 0.12383789, 0.38949928, 0.03035503,\n",
       "        0.15306313, 0.12374617, 0.20714476, 0.11333828, 0.29520554,\n",
       "        0.19653101, 0.14381102, 0.18917168, 0.15711477, 0.05406886,\n",
       "        0.06412951, 0.0140791 , 0.06638046, 0.09204417, 0.15601659,\n",
       "        0.09066992, 0.17675651, 0.0538422 , 0.02239427, 0.11734348,\n",
       "        0.01167855, 0.04430294, 0.02274227, 0.0615845 , 0.06277899,\n",
       "        0.00193529, 0.05483527, 0.08074872, 0.22686751, 0.04597071,\n",
       "        0.20147599, 0.04933667, 0.07568271, 0.29024445, 0.07386508,\n",
       "        0.0581014 , 0.00870278, 0.01393076, 0.02410088, 0.00588274,\n",
       "        0.12458481, 0.24735554, 0.03636952, 0.16617786, 0.19763061,\n",
       "        0.03473229, 0.09260855, 0.2960729 , 0.32589716, 0.09792702,\n",
       "        0.01048793, 0.11657506, 0.09739229, 0.01569454, 0.04712012,\n",
       "        0.00260579, 0.07243087, 0.05220526, 0.01939827, 0.05195951,\n",
       "        0.00368632, 0.15826244, 0.11985193, 0.11047761, 0.06008949,\n",
       "        0.0032535 , 0.02046425, 0.10516287, 0.14716752, 0.19743808,\n",
       "        0.01956066, 0.07692886, 0.04513166, 0.02663882, 0.29507431,\n",
       "        0.13203813, 0.03265271, 0.10841403, 0.149811  , 0.29709092,\n",
       "        0.18043154, 0.05845514, 0.06175579, 0.09813933, 0.1122688 ,\n",
       "        0.05764258, 0.23803327, 0.15139839, 0.07391344, 0.15443005,\n",
       "        0.07350264, 0.03172039, 0.00277021, 0.08307294, 0.0580434 ,\n",
       "        0.11047975, 0.07193124, 0.08236349, 0.1654643 , 0.0178569 ,\n",
       "        0.01893589, 0.02509588, 0.02239786, 0.13547565, 0.00944144,\n",
       "        0.18921451, 0.04250828, 0.06676278, 0.05516842, 0.02203179,\n",
       "        0.12886173, 0.14677524, 0.16793123, 0.09562951, 0.03062853,\n",
       "        0.10805146, 0.09160897, 0.00520561, 0.02232235, 0.00889823,\n",
       "        0.10658202, 0.02609559, 0.1426881 , 0.04402592, 0.08752607,\n",
       "        0.07613597, 0.01026878, 0.04954121, 0.01505577, 0.13586544,\n",
       "        0.10401817, 0.17219574, 0.05401639, 0.14259422, 0.21654795,\n",
       "        0.00966778, 0.04892539, 0.0290247 , 0.01258077, 0.09213918,\n",
       "        0.07313923, 0.04730514, 0.01447502, 0.13161543, 0.12513944,\n",
       "        0.03507764, 0.10790277, 0.15057531, 0.06376615, 0.09526795,\n",
       "        0.05334264, 0.04316629, 0.09053394, 0.22070661, 0.0687595 ,\n",
       "        0.11758603, 0.01695517, 0.14087415, 0.14541408, 0.19653615,\n",
       "        0.0299588 , 0.20121873, 0.09099853, 0.17877911, 0.04317146,\n",
       "        0.13758076, 0.07657087, 0.09349355, 0.11342473, 0.06288446,\n",
       "        0.08531948, 0.1753923 , 0.16473031, 0.1094911 , 0.01856614,\n",
       "        0.23206788, 0.16796762, 0.05840962, 0.11231746, 0.17301042,\n",
       "        0.06245044, 0.10626497, 0.06315833, 0.09898598, 0.10843676,\n",
       "        0.08099991, 0.00692734, 0.00659944, 0.29129912, 0.03451929,\n",
       "        0.18259563, 0.02886226, 0.15794255, 0.24823558, 0.20806317,\n",
       "        0.21550108, 0.04099878, 0.18733037, 0.04523918, 0.05114668,\n",
       "        0.04991671, 0.10999011, 0.00220212, 0.06416704, 0.1606157 ,\n",
       "        0.1524022 , 0.10526316, 0.1524022 , 0.1606157 , 0.06416704,\n",
       "        0.00220212, 0.10999011, 0.04991671, 0.05114668, 0.04523918,\n",
       "        0.18733037, 0.04099878, 0.21550108, 0.20806317, 0.24823558,\n",
       "        0.15794255, 0.02886226, 0.18259563, 0.03451929, 0.29129912,\n",
       "        0.00659944, 0.00692734, 0.08099991, 0.10843676, 0.09898598,\n",
       "        0.06315833, 0.10626497, 0.06245044, 0.17301042, 0.11231746,\n",
       "        0.05840962, 0.16796762, 0.23206788, 0.01856614, 0.1094911 ,\n",
       "        0.16473031, 0.1753923 , 0.08531948, 0.06288446, 0.11342473,\n",
       "        0.09349355, 0.07657087, 0.13758076, 0.04317146, 0.17877911,\n",
       "        0.09099853, 0.20121873, 0.0299588 , 0.19653615, 0.14541408,\n",
       "        0.14087415, 0.01695517, 0.11758603, 0.0687595 , 0.22070661,\n",
       "        0.09053394, 0.04316629, 0.05334264, 0.09526795, 0.06376615,\n",
       "        0.15057531, 0.10790277, 0.03507764, 0.12513944, 0.13161543,\n",
       "        0.01447502, 0.04730514, 0.07313923, 0.09213918, 0.01258077,\n",
       "        0.0290247 , 0.04892539, 0.00966778, 0.21654795, 0.14259422,\n",
       "        0.05401639, 0.17219574, 0.10401817, 0.13586544, 0.01505577,\n",
       "        0.04954121, 0.01026878, 0.07613597, 0.08752607, 0.04402592,\n",
       "        0.1426881 , 0.02609559, 0.10658202, 0.00889823, 0.02232235,\n",
       "        0.00520561, 0.09160897, 0.10805146, 0.03062853, 0.09562951,\n",
       "        0.16793123, 0.14677524, 0.12886173, 0.02203179, 0.05516842,\n",
       "        0.06676278, 0.04250828, 0.18921451, 0.00944144, 0.13547565,\n",
       "        0.02239786, 0.02509588, 0.01893589, 0.0178569 , 0.1654643 ,\n",
       "        0.08236349, 0.07193124, 0.11047975, 0.0580434 , 0.08307294,\n",
       "        0.00277021, 0.03172039, 0.07350264, 0.15443005, 0.07391344,\n",
       "        0.15139839, 0.23803327, 0.05764258, 0.1122688 , 0.09813933,\n",
       "        0.06175579, 0.05845514, 0.18043154, 0.29709092, 0.149811  ,\n",
       "        0.10841403, 0.03265271, 0.13203813, 0.29507431, 0.02663882,\n",
       "        0.04513166, 0.07692886, 0.01956066, 0.19743808, 0.14716752,\n",
       "        0.10516287, 0.02046425, 0.0032535 , 0.06008949, 0.11047761,\n",
       "        0.11985193, 0.15826244, 0.00368632, 0.05195951, 0.01939827,\n",
       "        0.05220526, 0.07243087, 0.00260579, 0.04712012, 0.01569454,\n",
       "        0.09739229, 0.11657506, 0.01048793, 0.09792702, 0.32589716,\n",
       "        0.2960729 , 0.09260855, 0.03473229, 0.19763061, 0.16617786,\n",
       "        0.03636952, 0.24735554, 0.12458481, 0.00588274, 0.02410088,\n",
       "        0.01393076, 0.00870278, 0.0581014 , 0.07386508, 0.29024445,\n",
       "        0.07568271, 0.04933667, 0.20147599, 0.04597071, 0.22686751,\n",
       "        0.08074872, 0.05483527, 0.00193529, 0.06277899, 0.0615845 ,\n",
       "        0.02274227, 0.04430294, 0.01167855, 0.11734348, 0.02239427,\n",
       "        0.0538422 , 0.17675651, 0.09066992, 0.15601659, 0.09204417,\n",
       "        0.06638046, 0.0140791 , 0.06412951, 0.05406886, 0.15711477,\n",
       "        0.18917168, 0.14381102, 0.19653101, 0.29520554, 0.11333828,\n",
       "        0.20714476, 0.12374617, 0.15306313, 0.03035503, 0.38949928,\n",
       "        0.12383789, 0.14523585, 0.19532314, 0.09863577, 0.0820435 ,\n",
       "        0.03027807, 0.16346597, 0.03803497, 0.05386624, 0.10789615,\n",
       "        0.05531797, 0.0451555 , 0.18826967, 0.15693133, 0.23531223,\n",
       "        0.19430126, 0.15265389, 0.17916188, 0.04539071, 0.00750519,\n",
       "        0.12235664, 0.02956471, 0.07427034, 0.0524827 , 0.23607948,\n",
       "        0.21021674, 0.00813338, 0.13756835, 0.2273268 , 0.04959764,\n",
       "        0.17878891, 0.03497395, 0.1120856 , 0.12367904, 0.16388938,\n",
       "        0.14719808, 0.1420049 , 0.0078383 , 0.00809159, 0.111333  ,\n",
       "        0.04684854, 0.02582669, 0.04514039, 0.1151428 , 0.09730163,\n",
       "        0.03399223, 0.1705434 ]])"
      ]
     },
     "execution_count": 56,
     "metadata": {},
     "output_type": "execute_result"
    }
   ],
   "source": [
    "np.fabs(GG.real)"
   ]
  },
  {
   "cell_type": "code",
   "execution_count": 52,
   "metadata": {},
   "outputs": [
    {
     "data": {
      "text/plain": [
       "dtype('complex128')"
      ]
     },
     "execution_count": 52,
     "metadata": {},
     "output_type": "execute_result"
    }
   ],
   "source": [
    "GG.dtype"
   ]
  },
  {
   "cell_type": "code",
   "execution_count": 54,
   "metadata": {},
   "outputs": [
    {
     "data": {
      "text/plain": [
       "\u001b[0;31mCall signature:\u001b[0m  \u001b[0mnp\u001b[0m\u001b[0;34m.\u001b[0m\u001b[0mabs\u001b[0m\u001b[0;34m(\u001b[0m\u001b[0;34m*\u001b[0m\u001b[0margs\u001b[0m\u001b[0;34m,\u001b[0m \u001b[0;34m**\u001b[0m\u001b[0mkwargs\u001b[0m\u001b[0;34m)\u001b[0m\u001b[0;34m\u001b[0m\u001b[0;34m\u001b[0m\u001b[0m\n",
       "\u001b[0;31mType:\u001b[0m            ufunc\n",
       "\u001b[0;31mString form:\u001b[0m     <ufunc 'absolute'>\n",
       "\u001b[0;31mFile:\u001b[0m            ~/.conda/envs/delta/lib/python3.7/site-packages/numpy/__init__.py\n",
       "\u001b[0;31mDocstring:\u001b[0m      \n",
       "absolute(x, /, out=None, *, where=True, casting='same_kind', order='K', dtype=None, subok=True[, signature, extobj])\n",
       "\n",
       "Calculate the absolute value element-wise.\n",
       "\n",
       "``np.abs`` is a shorthand for this function.\n",
       "\n",
       "Parameters\n",
       "----------\n",
       "x : array_like\n",
       "    Input array.\n",
       "out : ndarray, None, or tuple of ndarray and None, optional\n",
       "    A location into which the result is stored. If provided, it must have\n",
       "    a shape that the inputs broadcast to. If not provided or `None`,\n",
       "    a freshly-allocated array is returned. A tuple (possible only as a\n",
       "    keyword argument) must have length equal to the number of outputs.\n",
       "where : array_like, optional\n",
       "    This condition is broadcast over the input. At locations where the\n",
       "    condition is True, the `out` array will be set to the ufunc result.\n",
       "    Elsewhere, the `out` array will retain its original value.\n",
       "    Note that if an uninitialized `out` array is created via the default\n",
       "    ``out=None``, locations within it where the condition is False will\n",
       "    remain uninitialized.\n",
       "**kwargs\n",
       "    For other keyword-only arguments, see the\n",
       "    :ref:`ufunc docs <ufuncs.kwargs>`.\n",
       "\n",
       "Returns\n",
       "-------\n",
       "absolute : ndarray\n",
       "    An ndarray containing the absolute value of\n",
       "    each element in `x`.  For complex input, ``a + ib``, the\n",
       "    absolute value is :math:`\\sqrt{ a^2 + b^2 }`.\n",
       "    This is a scalar if `x` is a scalar.\n",
       "\n",
       "Examples\n",
       "--------\n",
       ">>> x = np.array([-1.2, 1.2])\n",
       ">>> np.absolute(x)\n",
       "array([ 1.2,  1.2])\n",
       ">>> np.absolute(1.2 + 1j)\n",
       "1.5620499351813308\n",
       "\n",
       "Plot the function over ``[-10, 10]``:\n",
       "\n",
       ">>> import matplotlib.pyplot as plt\n",
       "\n",
       ">>> x = np.linspace(start=-10, stop=10, num=101)\n",
       ">>> plt.plot(x, np.absolute(x))\n",
       ">>> plt.show()\n",
       "\n",
       "Plot the function over the complex plane:\n",
       "\n",
       ">>> xx = x + 1j * x[:, np.newaxis]\n",
       ">>> plt.imshow(np.abs(xx), extent=[-10, 10, -10, 10], cmap='gray')\n",
       ">>> plt.show()\n",
       "\u001b[0;31mClass docstring:\u001b[0m\n",
       "Functions that operate element by element on whole arrays.\n",
       "\n",
       "To see the documentation for a specific ufunc, use `info`.  For\n",
       "example, ``np.info(np.sin)``.  Because ufuncs are written in C\n",
       "(for speed) and linked into Python with NumPy's ufunc facility,\n",
       "Python's help() function finds this page whenever help() is called\n",
       "on a ufunc.\n",
       "\n",
       "A detailed explanation of ufuncs can be found in the docs for :ref:`ufuncs`.\n",
       "\n",
       "Calling ufuncs:\n",
       "===============\n",
       "\n",
       "op(*x[, out], where=True, **kwargs)\n",
       "Apply `op` to the arguments `*x` elementwise, broadcasting the arguments.\n",
       "\n",
       "The broadcasting rules are:\n",
       "\n",
       "* Dimensions of length 1 may be prepended to either array.\n",
       "* Arrays may be repeated along dimensions of length 1.\n",
       "\n",
       "Parameters\n",
       "----------\n",
       "*x : array_like\n",
       "    Input arrays.\n",
       "out : ndarray, None, or tuple of ndarray and None, optional\n",
       "    Alternate array object(s) in which to put the result; if provided, it\n",
       "    must have a shape that the inputs broadcast to. A tuple of arrays\n",
       "    (possible only as a keyword argument) must have length equal to the\n",
       "    number of outputs; use `None` for uninitialized outputs to be\n",
       "    allocated by the ufunc.\n",
       "where : array_like, optional\n",
       "    This condition is broadcast over the input. At locations where the\n",
       "    condition is True, the `out` array will be set to the ufunc result.\n",
       "    Elsewhere, the `out` array will retain its original value.\n",
       "    Note that if an uninitialized `out` array is created via the default\n",
       "    ``out=None``, locations within it where the condition is False will\n",
       "    remain uninitialized.\n",
       "**kwargs\n",
       "    For other keyword-only arguments, see the :ref:`ufunc docs <ufuncs.kwargs>`.\n",
       "\n",
       "Returns\n",
       "-------\n",
       "r : ndarray or tuple of ndarray\n",
       "    `r` will have the shape that the arrays in `x` broadcast to; if `out` is\n",
       "    provided, it will be returned. If not, `r` will be allocated and\n",
       "    may contain uninitialized values. If the function has more than one\n",
       "    output, then the result will be a tuple of arrays.\n"
      ]
     },
     "metadata": {},
     "output_type": "display_data"
    }
   ],
   "source": [
    "?np.abs"
   ]
  },
  {
   "cell_type": "code",
   "execution_count": null,
   "metadata": {},
   "outputs": [],
   "source": []
  }
 ],
 "metadata": {
  "kernelspec": {
   "display_name": "delta",
   "language": "python",
   "name": "delta"
  },
  "language_info": {
   "codemirror_mode": {
    "name": "ipython",
    "version": 3
   },
   "file_extension": ".py",
   "mimetype": "text/x-python",
   "name": "python",
   "nbconvert_exporter": "python",
   "pygments_lexer": "ipython3",
   "version": "3.7.6"
  }
 },
 "nbformat": 4,
 "nbformat_minor": 4
}
